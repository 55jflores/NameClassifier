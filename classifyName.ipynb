{
 "cells": [
  {
   "cell_type": "markdown",
   "id": "8a16b43a",
   "metadata": {},
   "source": [
    "# Preparing Data"
   ]
  },
  {
   "cell_type": "code",
   "execution_count": 1,
   "id": "005fb2cf",
   "metadata": {},
   "outputs": [
    {
     "name": "stdout",
     "output_type": "stream",
     "text": [
      "['data/names\\\\Arabic.txt', 'data/names\\\\Chinese.txt', 'data/names\\\\Czech.txt', 'data/names\\\\Dutch.txt', 'data/names\\\\English.txt', 'data/names\\\\French.txt', 'data/names\\\\German.txt', 'data/names\\\\Greek.txt', 'data/names\\\\Irish.txt', 'data/names\\\\Italian.txt', 'data/names\\\\Japanese.txt', 'data/names\\\\Korean.txt', 'data/names\\\\Polish.txt', 'data/names\\\\Portuguese.txt', 'data/names\\\\Russian.txt', 'data/names\\\\Scottish.txt', 'data/names\\\\Spanish.txt', 'data/names\\\\Vietnamese.txt']\n",
      "Slusarski\n"
     ]
    }
   ],
   "source": [
    "from io import open\n",
    "import glob\n",
    "import os\n",
    "\n",
    "def findFiles(path): return glob.glob(path)\n",
    "print(findFiles('data/names/*.txt'))\n",
    "\n",
    "import unicodedata\n",
    "import string\n",
    "\n",
    "all_letters = string.ascii_letters + \" .,;'\"\n",
    "n_letters = len(all_letters)\n",
    "\n",
    "# Turning Unicode into ASCII\n",
    "def unicodeToAscii(s):\n",
    "    return ''.join(c for c in unicodedata.normalize('NFD',s)\n",
    "                   if unicodedata.category(c)!='Mm' and c in all_letters\n",
    "                  )\n",
    "print(unicodeToAscii('Ślusàrski'))"
   ]
  },
  {
   "cell_type": "code",
   "execution_count": 2,
   "id": "ac0c1c68",
   "metadata": {},
   "outputs": [],
   "source": [
    "category_lines = {}\n",
    "all_categories = []\n",
    "\n",
    "# Reading in file and splitting it in lines\n",
    "def readLines(filename):\n",
    "    lines = open(filename, encoding='utf-8').read().strip().split('\\n')\n",
    "    return [unicodeToAscii(line) for line in lines]\n",
    "\n",
    "for filename in findFiles('data/names/*.txt'):\n",
    "    category = os.path.splitext(os.path.basename(filename))[0]\n",
    "    all_categories.append(category)\n",
    "    lines = readLines(filename)\n",
    "    category_lines[category] = lines\n",
    "\n",
    "n_categories = len(all_categories)"
   ]
  },
  {
   "cell_type": "code",
   "execution_count": 3,
   "id": "e45a551d",
   "metadata": {},
   "outputs": [
    {
     "name": "stdout",
     "output_type": "stream",
     "text": [
      "['Abandonato', 'Abatangelo', 'Abatantuono', 'Abate', 'Abategiovanni']\n"
     ]
    }
   ],
   "source": [
    "print(category_lines['Italian'][:5])"
   ]
  },
  {
   "cell_type": "markdown",
   "id": "3a4eb548",
   "metadata": {},
   "source": [
    "# Turn names to tensors"
   ]
  },
  {
   "cell_type": "code",
   "execution_count": 4,
   "id": "fb780150",
   "metadata": {},
   "outputs": [
    {
     "name": "stdout",
     "output_type": "stream",
     "text": [
      "tensor([[0., 0., 0., 0., 0., 0., 0., 0., 0., 0., 0., 0., 0., 0., 0., 0., 0., 0.,\n",
      "         0., 0., 0., 0., 0., 0., 0., 0., 0., 0., 0., 0., 0., 0., 0., 0., 0., 1.,\n",
      "         0., 0., 0., 0., 0., 0., 0., 0., 0., 0., 0., 0., 0., 0., 0., 0., 0., 0.,\n",
      "         0., 0., 0.]])\n",
      "torch.Size([5, 1, 57])\n"
     ]
    }
   ],
   "source": [
    "# Representing a single letter using one hot vector: size 1 x n_letters. Filled with 0's except for 1 at index of current letter\n",
    "# Representing word: Join bunch of those into a 2D matrix: line_length x 1 x n_letters. \n",
    "#Extra dimension because PyTorch assumes batches. Batch size of 1 here\n",
    "\n",
    "import torch\n",
    "\n",
    "# Converting letter to an index\n",
    "def letterToIndex(letter):\n",
    "    return all_letters.find(letter)\n",
    "\n",
    "# Turning letter to 1xn_letters tensor\n",
    "def letterToTensor(letter):\n",
    "    tensor = torch.zeros(1,n_letters)\n",
    "    tensor[0][letterToIndex(letter)] = 1\n",
    "    \n",
    "    return tensor\n",
    "\n",
    "# Turn line into line_length x 1 x n_letters\n",
    "# AKA array of one hot letter vectors\n",
    "def lineToTensor(line):\n",
    "    tensor = torch.zeros(len(line),1,n_letters)\n",
    "    for li,letter in enumerate(line):\n",
    "        tensor[li][0][letterToIndex(letter)] = 1\n",
    "        \n",
    "    return tensor\n",
    "\n",
    "print(letterToTensor('J'))\n",
    "print(lineToTensor('Jones').size())"
   ]
  },
  {
   "cell_type": "markdown",
   "id": "ff95cf36",
   "metadata": {},
   "source": [
    "# Creating the network"
   ]
  },
  {
   "cell_type": "code",
   "execution_count": 5,
   "id": "29f5d751",
   "metadata": {},
   "outputs": [],
   "source": [
    "# RNN model: 2 linear layers which operate on an input and hidden state. Log softmax layer after output\n",
    "import torch.nn as nn\n",
    "\n",
    "class RNN(nn.Module):\n",
    "    def __init__(self,input_size,hidden_size,output_size):\n",
    "        super(RNN,self).__init__()\n",
    "        \n",
    "        self.hidden_size = hidden_size\n",
    "        \n",
    "        self.i2h1 = nn.Linear(input_size + hidden_size, 150)\n",
    "        self.i2h = nn.Linear(150, hidden_size)\n",
    "\n",
    "        self.i2o1 = nn.Linear(input_size + hidden_size, 100)\n",
    "        self.i2o = nn.Linear(100, output_size)\n",
    "\n",
    "        self.softmax = nn.LogSoftmax(dim=1)\n",
    "        \n",
    "        self.my_tanh = nn.Tanh()\n",
    "    def forward(self,input,hidden):\n",
    "        combined = torch.cat((input,hidden),1)\n",
    "       \n",
    "        hidden1 = self.i2h1(combined)\n",
    "        hidden1 = self.my_tanh((hidden1))\n",
    "       \n",
    "        hidden = self.i2h(hidden1)\n",
    "        hiden = self.my_tanh((hidden))\n",
    "        \n",
    "        output1 = self.i2o1(combined)\n",
    "        output1 = self.my_tanh((output1))\n",
    "        \n",
    "        output = self.i2o(output1)\n",
    "        output = self.softmax(output)\n",
    "        \n",
    "        return output,hidden\n",
    "    \n",
    "    def initHidden(self):\n",
    "        return torch.zeros(1,self.hidden_size)\n",
    "    \n",
    "n_hidden = 128\n",
    "rnn = RNN(n_letters,n_hidden,n_categories)"
   ]
  },
  {
   "cell_type": "code",
   "execution_count": 6,
   "id": "8038594b",
   "metadata": {},
   "outputs": [],
   "source": [
    "# Running a step through this network\n",
    "input = letterToTensor('A')\n",
    "hidden = torch.zeros(1,n_hidden)\n",
    "output,next_hidden = rnn(input,hidden)"
   ]
  },
  {
   "cell_type": "code",
   "execution_count": 7,
   "id": "15ed2168",
   "metadata": {},
   "outputs": [
    {
     "data": {
      "text/plain": [
       "tensor([[-2.8123, -2.8435, -2.9525, -2.8934, -2.7574, -2.9570, -2.9709, -2.7948,\n",
       "         -3.0124, -2.8531, -2.9978, -2.8226, -2.9546, -2.8556, -2.9223, -2.9582,\n",
       "         -2.9286, -2.7920]], grad_fn=<LogSoftmaxBackward>)"
      ]
     },
     "execution_count": 7,
     "metadata": {},
     "output_type": "execute_result"
    }
   ],
   "source": [
    "output"
   ]
  },
  {
   "cell_type": "code",
   "execution_count": 8,
   "id": "63caf1c4",
   "metadata": {},
   "outputs": [
    {
     "data": {
      "text/plain": [
       "torch.Size([1, 18])"
      ]
     },
     "execution_count": 8,
     "metadata": {},
     "output_type": "execute_result"
    }
   ],
   "source": [
    "output.size()"
   ]
  },
  {
   "cell_type": "code",
   "execution_count": 9,
   "id": "14ef86e7",
   "metadata": {},
   "outputs": [
    {
     "data": {
      "text/plain": [
       "tensor([[-0.0179, -0.0326, -0.0518, -0.0905,  0.0436, -0.1269, -0.0241, -0.0712,\n",
       "         -0.0614,  0.0378,  0.0455, -0.0933, -0.0320,  0.0679, -0.0118, -0.0547,\n",
       "         -0.1036,  0.0269,  0.0272, -0.0380, -0.0617,  0.0540, -0.0454,  0.0991,\n",
       "         -0.0257,  0.0404,  0.0861, -0.0638,  0.1050, -0.0342, -0.0005,  0.0253,\n",
       "          0.0197,  0.0396,  0.0332, -0.0042, -0.0519,  0.0074,  0.0393, -0.0548,\n",
       "         -0.0360,  0.0279, -0.0457,  0.0545,  0.0321,  0.0053,  0.1014,  0.1026,\n",
       "          0.0512,  0.0669, -0.1137,  0.0486,  0.0997,  0.0462, -0.0152, -0.0792,\n",
       "          0.0003,  0.0450,  0.0292, -0.0987, -0.0398,  0.0419,  0.0175, -0.0421,\n",
       "         -0.0931, -0.0472,  0.0340, -0.0364, -0.0817,  0.0906,  0.0460, -0.1302,\n",
       "          0.0934,  0.0133,  0.0215, -0.0052, -0.0688,  0.0145, -0.0079,  0.0479,\n",
       "          0.0644,  0.0362,  0.0499, -0.0927, -0.0312,  0.0393,  0.0479, -0.0659,\n",
       "         -0.0125,  0.0963, -0.0067, -0.0520,  0.0539, -0.0179, -0.0413,  0.0795,\n",
       "         -0.0429,  0.0275,  0.0095, -0.0796,  0.0215,  0.0570, -0.0824, -0.0230,\n",
       "         -0.0742,  0.1544, -0.0014, -0.0266, -0.0536,  0.0637,  0.0220,  0.0248,\n",
       "          0.0489, -0.0143,  0.0869, -0.0935,  0.0488,  0.0086, -0.0069, -0.0131,\n",
       "         -0.0331,  0.0529, -0.0206,  0.0391, -0.1001, -0.0510,  0.1174,  0.0116]],\n",
       "       grad_fn=<AddmmBackward>)"
      ]
     },
     "execution_count": 9,
     "metadata": {},
     "output_type": "execute_result"
    }
   ],
   "source": [
    "next_hidden"
   ]
  },
  {
   "cell_type": "code",
   "execution_count": 10,
   "id": "faecfd15",
   "metadata": {},
   "outputs": [
    {
     "data": {
      "text/plain": [
       "torch.Size([1, 128])"
      ]
     },
     "execution_count": 10,
     "metadata": {},
     "output_type": "execute_result"
    }
   ],
   "source": [
    "next_hidden.size()"
   ]
  },
  {
   "cell_type": "code",
   "execution_count": 11,
   "id": "2f7e6e29",
   "metadata": {},
   "outputs": [
    {
     "name": "stdout",
     "output_type": "stream",
     "text": [
      "torch.Size([1, 18])\n",
      "torch.Size([1, 128])\n"
     ]
    }
   ],
   "source": [
    "# Efficiency: Use lineToTensor instead of letterToTensor and use slices\n",
    "# Saves create a new tensor for every step\n",
    "input = lineToTensor('Albert')\n",
    "hidden = torch.zeros(1,n_hidden)\n",
    "\n",
    "output, next_hidden = rnn(input[0],hidden)\n",
    "print(output.size())\n",
    "print(next_hidden.size())"
   ]
  },
  {
   "cell_type": "code",
   "execution_count": 12,
   "id": "8dce50ea",
   "metadata": {},
   "outputs": [
    {
     "data": {
      "text/plain": [
       "tensor([[-2.8123, -2.8435, -2.9525, -2.8934, -2.7574, -2.9570, -2.9709, -2.7948,\n",
       "         -3.0124, -2.8531, -2.9978, -2.8226, -2.9546, -2.8556, -2.9223, -2.9582,\n",
       "         -2.9286, -2.7920]], grad_fn=<LogSoftmaxBackward>)"
      ]
     },
     "execution_count": 12,
     "metadata": {},
     "output_type": "execute_result"
    }
   ],
   "source": [
    "output"
   ]
  },
  {
   "cell_type": "markdown",
   "id": "2ac2ecfc",
   "metadata": {},
   "source": [
    "# Training"
   ]
  },
  {
   "cell_type": "code",
   "execution_count": 13,
   "id": "6b2bf297",
   "metadata": {},
   "outputs": [
    {
     "name": "stdout",
     "output_type": "stream",
     "text": [
      "('English', 4)\n"
     ]
    }
   ],
   "source": [
    "# Function to interpret output of network: Convert numerical value to categorical\n",
    "def categoryFromOutput(output):\n",
    "    top_n,top_i = output.topk(1)\n",
    "    category_i = top_i[0].item()\n",
    "    \n",
    "    return all_categories[category_i],category_i\n",
    "\n",
    "print(categoryFromOutput(output))"
   ]
  },
  {
   "cell_type": "code",
   "execution_count": 14,
   "id": "9a9f8ed4",
   "metadata": {},
   "outputs": [
    {
     "name": "stdout",
     "output_type": "stream",
     "text": [
      "category = Greek / line = Manos\n",
      "category = Greek / line = Close\n",
      "category = Polish / line = Warszawski\n",
      "category = Czech / line = Nestrojil\n",
      "category = Vietnamese / line = Vinh\n",
      "category = Japanese / line = Ohba\n",
      "category = Scottish / line = Shaw\n",
      "category = Italian / line = Padovan\n",
      "category = Vietnamese / line = Than\n",
      "category = Korean / line = Kang\n"
     ]
    }
   ],
   "source": [
    "# Grab random training example, both name and language\n",
    "\n",
    "import random\n",
    "\n",
    "def randomChoice(l):\n",
    "    return l[random.randint(0,len(l) - 1)]\n",
    "\n",
    "def randomTrainingExample():\n",
    "    category = randomChoice(all_categories) # Random language\n",
    "    line = randomChoice(category_lines[category]) # Random name from said language\n",
    "    category_tensor = torch.tensor([all_categories.index(category)],dtype=torch.long)\n",
    "    line_tensor = lineToTensor(line)\n",
    "    \n",
    "    return category,line,category_tensor,line_tensor\n",
    "\n",
    "for i in range(10):\n",
    "    category,line,category_tensor,line_tensor = randomTrainingExample()\n",
    "    print('category =',category,'/ line =',line)"
   ]
  },
  {
   "cell_type": "markdown",
   "id": "ba562583",
   "metadata": {},
   "source": [
    "# Training the network"
   ]
  },
  {
   "cell_type": "code",
   "execution_count": 15,
   "id": "1653f4c2",
   "metadata": {},
   "outputs": [],
   "source": [
    "# Loss function is NLLLoss since last layer of RNN is LogSoftmax\n",
    "criterion = nn.NLLLoss()"
   ]
  },
  {
   "cell_type": "code",
   "execution_count": 16,
   "id": "3efda060",
   "metadata": {},
   "outputs": [],
   "source": [
    "# Each Training loop iteration:\n",
    "# Creates input and target tensors\n",
    "# Creates zeroed initial hidden state\n",
    "# Read in each letter and keep hiddene state for next letter\n",
    "# Compare final output to target\n",
    "# Backpropagate\n",
    "# Return output and loss\n",
    "\n",
    "learning_rate = 0.005\n",
    "def train(category_tensor,line_tensor):\n",
    "    hidden = rnn.initHidden()\n",
    "    rnn.zero_grad()\n",
    "    \n",
    "    for i in range(line_tensor.size()[0]):\n",
    "        output,hidden = rnn(line_tensor[i],hidden)\n",
    "    \n",
    "    loss = criterion(output,category_tensor)\n",
    "    loss.backward()\n",
    "    \n",
    "    # Add parameters gradients to their values, multiplied by learning rate\n",
    "    for p in rnn.parameters():\n",
    "        p.data.add_(p.grad.data,alpha=-learning_rate)\n",
    "        \n",
    "    return output, loss.item()"
   ]
  },
  {
   "cell_type": "code",
   "execution_count": 17,
   "id": "156bb2f8",
   "metadata": {},
   "outputs": [],
   "source": [
    "import math\n",
    "import time"
   ]
  },
  {
   "cell_type": "code",
   "execution_count": 18,
   "id": "e18b461b",
   "metadata": {},
   "outputs": [
    {
     "name": "stdout",
     "output_type": "stream",
     "text": [
      "5000 5% (0m 9s) 3.0412 Serafin / Scottish X (Polish)\n",
      "10000 10% (0m 19s) 2.1221 Durr / Arabic X (German)\n",
      "15000 15% (0m 29s) 2.7912 Turnham / Arabic X (English)\n",
      "20000 20% (0m 38s) 5.4170 Shalai / Japanese X (Russian)\n",
      "25000 25% (0m 48s) 0.3537 Gagliardi / Italian O\n",
      "30000 30% (0m 58s) 4.2996 Cann / Chinese X (English)\n",
      "35000 35% (1m 8s) 0.8724 Thi / Vietnamese O\n",
      "40000 40% (1m 18s) 0.1115 Yamashita / Japanese O\n",
      "45000 45% (1m 28s) 0.8240 Coelho / Portuguese O\n",
      "50000 50% (1m 38s) 0.1052 Hatakeyama / Japanese O\n",
      "55000 55% (1m 48s) 0.2503 Kringos / Greek O\n",
      "60000 60% (1m 58s) 2.6167 Johnstone / French X (Scottish)\n",
      "65000 65% (2m 8s) 0.4374 Adamczak / Polish O\n",
      "70000 70% (2m 18s) 1.1198 Apeldoorn / Dutch O\n",
      "75000 75% (2m 28s) 2.7728 Villeneuve / Portuguese X (French)\n",
      "80000 80% (2m 38s) 0.4234 Cho / Korean O\n",
      "85000 85% (2m 48s) 1.6886 Rim / Korean O\n",
      "90000 90% (2m 58s) 5.2758 Douglas / Greek X (Scottish)\n",
      "95000 95% (3m 8s) 0.2893 Gutierrez / Spanish O\n",
      "100000 100% (3m 18s) 1.2835 Johnstone / Scottish O\n"
     ]
    }
   ],
   "source": [
    "n_iters = 100000\n",
    "print_every = 5000\n",
    "plot_every = 1000\n",
    "\n",
    "# Keeping track of losses for plotting\n",
    "current_loss = 0\n",
    "all_losses = []\n",
    "\n",
    "def timeSince(since):\n",
    "    now = time.time()\n",
    "    s = now - since\n",
    "    m = math.floor(s/60)\n",
    "    s -= m*60\n",
    "    \n",
    "    return '%dm %ds' % (m,s)\n",
    "\n",
    "start = time.time()\n",
    "for iter in range(1,n_iters+1):\n",
    "    category,line,category_tensor,line_tensor = randomTrainingExample()\n",
    "    output,loss = train(category_tensor,line_tensor)\n",
    "    current_loss += loss\n",
    "    \n",
    "    # Printing iter number,loss, name and guess\n",
    "    if iter % print_every == 0:\n",
    "        guess,guess_i = categoryFromOutput(output)\n",
    "        correct = 'O' if guess == category else 'X (%s)' % category\n",
    "        print('%d %d%% (%s) %.4f %s / %s %s' % (iter,iter/n_iters*100,timeSince(start),loss,line,guess,correct))\n",
    "        \n",
    "    # Adding current loss average to list of losses\n",
    "    if iter % plot_every == 0:\n",
    "        all_losses.append(current_loss/plot_every)\n",
    "        current_loss = 0"
   ]
  },
  {
   "cell_type": "markdown",
   "id": "c43ecadf",
   "metadata": {},
   "source": [
    "# Plotting the results"
   ]
  },
  {
   "cell_type": "code",
   "execution_count": 19,
   "id": "370db972",
   "metadata": {},
   "outputs": [
    {
     "data": {
      "text/plain": [
       "[<matplotlib.lines.Line2D at 0x12e2bcbb970>]"
      ]
     },
     "execution_count": 19,
     "metadata": {},
     "output_type": "execute_result"
    },
    {
     "data": {
      "image/png": "[encoded data removed]",
      "text/plain": [
       "<Figure size 432x288 with 1 Axes>"
      ]
     },
     "metadata": {
      "needs_background": "light"
     },
     "output_type": "display_data"
    }
   ],
   "source": [
    "import matplotlib.pyplot as plt\n",
    "import matplotlib.ticker as ticker\n",
    "\n",
    "# Plotting historical loss form all_losses to show how well the network learned\n",
    "plt.figure()\n",
    "plt.plot(all_losses)"
   ]
  },
  {
   "cell_type": "markdown",
   "id": "14aa46f2",
   "metadata": {},
   "source": [
    "# Evaluating the results"
   ]
  },
  {
   "cell_type": "code",
   "execution_count": 20,
   "id": "20762659",
   "metadata": {},
   "outputs": [
    {
     "name": "stderr",
     "output_type": "stream",
     "text": [
      "<ipython-input-20-ba40241627ab>:35: UserWarning: FixedFormatter should only be used together with FixedLocator\n",
      "  ax.set_xticklabels([''] + all_categories, rotation=90)\n",
      "<ipython-input-20-ba40241627ab>:36: UserWarning: FixedFormatter should only be used together with FixedLocator\n",
      "  ax.set_yticklabels([''] + all_categories)\n"
     ]
    },
    {
     "data": {
      "image/png": "[encoded data removed]",
      "text/plain": [
       "<Figure size 864x576 with 2 Axes>"
      ]
     },
     "metadata": {
      "needs_background": "light"
     },
     "output_type": "display_data"
    }
   ],
   "source": [
    "# Confusion matrix: Rows = actual language. Column = language networked guessed\n",
    "# Run samples through network using evaluate() to calculate the confusion matrix\n",
    "# evaluate(): Same as train() minus backprop\n",
    "\n",
    "# Keeping track of correct guesses in a confusion matrix\n",
    "confusion = torch.zeros(n_categories, n_categories)\n",
    "n_confusion = 10000\n",
    "\n",
    "# Evaluation function\n",
    "def evaluate(line_tensor):\n",
    "    hidden = rnn.initHidden()\n",
    "\n",
    "    for i in range(line_tensor.size()[0]):\n",
    "        output, hidden = rnn(line_tensor[i], hidden)\n",
    "\n",
    "    return output\n",
    "\n",
    "# Going through random samples and seeing which are correct\n",
    "for i in range(n_confusion):\n",
    "    category, line, category_tensor, line_tensor = randomTrainingExample()\n",
    "    output = evaluate(line_tensor)\n",
    "    guess, guess_i = categoryFromOutput(output)\n",
    "    category_i = all_categories.index(category)\n",
    "    confusion[category_i][guess_i] += 1\n",
    "\n",
    "# Normalize by dividing every row by its sum\n",
    "for i in range(n_categories):\n",
    "    confusion[i] = confusion[i] / confusion[i].sum()\n",
    "\n",
    "fig = plt.figure(figsize=(12,8))\n",
    "ax = fig.add_subplot(111)\n",
    "cax = ax.matshow(confusion.numpy())\n",
    "fig.colorbar(cax)\n",
    "\n",
    "ax.set_xticklabels([''] + all_categories, rotation=90)\n",
    "ax.set_yticklabels([''] + all_categories)\n",
    "\n",
    "ax.xaxis.set_major_locator(ticker.MultipleLocator(1))\n",
    "ax.yaxis.set_major_locator(ticker.MultipleLocator(1))\n",
    "\n",
    "plt.show()"
   ]
  },
  {
   "cell_type": "markdown",
   "id": "ad53d54f",
   "metadata": {},
   "source": [
    "# TorchScript Model and Inference"
   ]
  },
  {
   "cell_type": "code",
   "execution_count": 21,
   "id": "a81a7e97",
   "metadata": {
    "scrolled": true
   },
   "outputs": [
    {
     "name": "stderr",
     "output_type": "stream",
     "text": [
      "<ipython-input-21-997d624ad72b>:2: UserWarning: To copy construct from a tensor, it is recommended to use sourceTensor.clone().detach() or sourceTensor.clone().detach().requires_grad_(True), rather than torch.tensor(sourceTensor).\n",
      "  example_size = torch.tensor(lineToTensor(example_name))\n"
     ]
    }
   ],
   "source": [
    "example_name = 'Arrizabalaga'\n",
    "example_size = torch.tensor(lineToTensor(example_name))"
   ]
  },
  {
   "cell_type": "code",
   "execution_count": 22,
   "id": "511e76f2",
   "metadata": {},
   "outputs": [],
   "source": [
    "def evaluate_ts(line_tensor):\n",
    "    hidden = rnn.initHidden()\n",
    "\n",
    "    for i in range(line_tensor.size()[0]):\n",
    "        output, hidden = my_model(line_tensor[i], hidden)\n",
    "\n",
    "    return output"
   ]
  },
  {
   "cell_type": "code",
   "execution_count": 23,
   "id": "d03f4ac7",
   "metadata": {},
   "outputs": [],
   "source": [
    "def predict_ts(input_line,n_predictions=3):\n",
    "    print('Name:',input_line)\n",
    "    with torch.no_grad():\n",
    "        output = evaluate_ts(lineToTensor(input_line))\n",
    "        \n",
    "        topv,topi = output.topk(n_predictions,1,True)\n",
    "        \n",
    "        for i in range(n_predictions):\n",
    "            value = topv[0]\n",
    "            category_index = topi[0][i].item()\n",
    "            print(f'{all_categories[category_index]}: {round(torch.exp(value[i]).item()*100,2)}%')\n",
    "    print('\\n')"
   ]
  },
  {
   "cell_type": "code",
   "execution_count": 24,
   "id": "bad30432",
   "metadata": {},
   "outputs": [],
   "source": [
    "example_size.shape\n",
    "ex_hidden = rnn.initHidden()\n",
    "traced_script_module = torch.jit.trace(rnn,(example_size[0],ex_hidden))"
   ]
  },
  {
   "cell_type": "code",
   "execution_count": 25,
   "id": "fd6f638f",
   "metadata": {},
   "outputs": [],
   "source": [
    "traced_script_module.save('name_classifier_ts.pt')"
   ]
  },
  {
   "cell_type": "code",
   "execution_count": 26,
   "id": "bb1d5805",
   "metadata": {},
   "outputs": [],
   "source": [
    "my_model = torch.jit.load('name_classifier_ts.pt')"
   ]
  },
  {
   "cell_type": "code",
   "execution_count": 27,
   "id": "2176cd55",
   "metadata": {},
   "outputs": [
    {
     "name": "stdout",
     "output_type": "stream",
     "text": [
      "Name: Satoshi\n",
      "Arabic: 39.38%\n",
      "Japanese: 24.96%\n",
      "Italian: 9.93%\n",
      "\n",
      "\n",
      "Name: Jackson\n",
      "Scottish: 84.39%\n",
      "English: 8.29%\n",
      "German: 1.73%\n",
      "\n",
      "\n",
      "Name: Doveski\n",
      "Polish: 49.62%\n",
      "Russian: 25.35%\n",
      "Czech: 7.86%\n",
      "\n",
      "\n",
      "Name: Gomez\n",
      "Spanish: 42.46%\n",
      "German: 20.85%\n",
      "Portuguese: 12.44%\n",
      "\n",
      "\n",
      "Name: Gomes\n",
      "Portuguese: 51.32%\n",
      "Dutch: 25.47%\n",
      "German: 6.27%\n",
      "\n",
      "\n",
      "Name: Flores\n",
      "Portuguese: 72.82%\n",
      "Spanish: 13.08%\n",
      "Dutch: 8.51%\n",
      "\n",
      "\n"
     ]
    }
   ],
   "source": [
    "predict_ts('Satoshi')\n",
    "predict_ts('Jackson')\n",
    "predict_ts('Doveski')\n",
    "predict_ts('Gomez')\n",
    "predict_ts('Gomes')\n",
    "predict_ts('Flores')"
   ]
  },
  {
   "cell_type": "code",
   "execution_count": null,
   "id": "4ee44546",
   "metadata": {},
   "outputs": [],
   "source": []
  }
 ],
 "metadata": {
  "kernelspec": {
   "display_name": "Python 3",
   "language": "python",
   "name": "python3"
  },
  "language_info": {
   "codemirror_mode": {
    "name": "ipython",
    "version": 3
   },
   "file_extension": ".py",
   "mimetype": "text/x-python",
   "name": "python",
   "nbconvert_exporter": "python",
   "pygments_lexer": "ipython3",
   "version": "3.8.10"
  }
 },
 "nbformat": 4,
 "nbformat_minor": 5
}
