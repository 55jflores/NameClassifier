{
 "cells": [
  {
   "cell_type": "code",
   "execution_count": 1,
   "id": "01cc78c2",
   "metadata": {},
   "outputs": [],
   "source": [
    "import torch\n",
    "import torch.nn.functional as F\n",
    "import string\n",
    "import gradio as gr"
   ]
  },
  {
   "cell_type": "code",
   "execution_count": 2,
   "id": "bf7ab8fa",
   "metadata": {},
   "outputs": [],
   "source": [
    "all_letters = string.ascii_letters + \" .,;'\"\n",
    "n_letters = len(all_letters)\n",
    "\n",
    "all_categories = ['Arabic','Chinese','Czech','Dutch','English','French','German','Greek',\n",
    "                'Irish','Italian','Japanese','Korean','Polish','Portuguese','Russian','Scottish',\n",
    "                'Spanish','Vietnamese']"
   ]
  },
  {
   "cell_type": "code",
   "execution_count": 3,
   "id": "ba204d51",
   "metadata": {},
   "outputs": [],
   "source": [
    "# Find letter index from all_letters: Ex: \"a\" = 0\n",
    "def letterToIndex(letter):\n",
    "    return all_letters.find(letter)"
   ]
  },
  {
   "cell_type": "code",
   "execution_count": 4,
   "id": "94ce6486",
   "metadata": {},
   "outputs": [],
   "source": [
    "# Giving each charachter in name a one hot vector\n",
    "def lineToTensor(line):\n",
    "    tensor = torch.zeros(len(line),1,n_letters)\n",
    "    for li,letter in enumerate(line):\n",
    "        tensor[li][0][letterToIndex(letter)] = 1\n",
    "\n",
    "    return tensor "
   ]
  },
  {
   "cell_type": "code",
   "execution_count": 5,
   "id": "97d76147",
   "metadata": {},
   "outputs": [],
   "source": [
    "# Loading in torchscript model\n",
    "my_model = torch.jit.load('name_classifier_ts.ptl')"
   ]
  },
  {
   "cell_type": "code",
   "execution_count": 6,
   "id": "af4ef9c3",
   "metadata": {},
   "outputs": [],
   "source": [
    "# Return output given a line_tensor\n",
    "def evaluate(line_tensor):\n",
    "    hidden = torch.zeros(1,128)\n",
    "\n",
    "    for i in range(line_tensor.size()[0]):\n",
    "        output, hidden = my_model(line_tensor[i], hidden)\n",
    "\n",
    "    return output"
   ]
  },
  {
   "cell_type": "code",
   "execution_count": 7,
   "id": "709bc227",
   "metadata": {},
   "outputs": [],
   "source": [
    "# Feeding in a name and number of top predictions you want to output\n",
    "def predict(last_name,n_predictions=3):\n",
    "    \n",
    "    last_name = last_name.title()\n",
    "    with torch.no_grad():\n",
    "        output = evaluate(lineToTensor(last_name))\n",
    "        output = F.softmax(output,dim=1)\n",
    "\n",
    "        topv,topi = output.topk(n_predictions,1,True)\n",
    "        \n",
    "        top_3_countries = ''\n",
    "        for i in range(n_predictions):\n",
    "            value = topv[0]\n",
    "            category_index = topi[0][i].item()\n",
    "            top_3_countries += f'{all_categories[category_index]}: {round(value[i].item()*100,2)}%'\n",
    "            top_3_countries += '\\n'\n",
    "    return top_3_countries"
   ]
  },
  {
   "cell_type": "code",
   "execution_count": 8,
   "id": "8e241270",
   "metadata": {
    "scrolled": false
   },
   "outputs": [],
   "source": [
    "out = predict('Flores')"
   ]
  },
  {
   "cell_type": "code",
   "execution_count": 9,
   "id": "01d9bee8",
   "metadata": {},
   "outputs": [
    {
     "data": {
      "text/plain": [
       "'Spanish: 37.8%\\nPortuguese: 37.2%\\nDutch: 7.46%\\n'"
      ]
     },
     "execution_count": 9,
     "metadata": {},
     "output_type": "execute_result"
    }
   ],
   "source": [
    "out"
   ]
  },
  {
   "cell_type": "code",
   "execution_count": 10,
   "id": "2b84401e",
   "metadata": {},
   "outputs": [],
   "source": [
    "demo = gr.Interface(predict,\n",
    "                        inputs = \"text\", \n",
    "                        outputs = \"text\", \n",
    "                        description=\"Classify name into language of origin. Returns top 3 languages of origin\"\n",
    "                    )"
   ]
  },
  {
   "cell_type": "code",
   "execution_count": 11,
   "id": "4e54469a",
   "metadata": {},
   "outputs": [
    {
     "name": "stdout",
     "output_type": "stream",
     "text": [
      "Running on local URL:  http://127.0.0.1:7860/\n",
      "Running on public URL: https://33368.gradio.app\n",
      "\n",
      "This share link expires in 72 hours. For free permanent hosting, check out Spaces (https://huggingface.co/spaces)\n"
     ]
    },
    {
     "data": {
      "text/html": [
       "<div><iframe src=\"https://33368.gradio.app\" width=\"900\" height=\"500\" allow=\"autoplay; camera; microphone;\" frameborder=\"0\" allowfullscreen></iframe></div>"
      ],
      "text/plain": [
       "<IPython.core.display.HTML object>"
      ]
     },
     "metadata": {},
     "output_type": "display_data"
    },
    {
     "data": {
      "text/plain": [
       "(<gradio.routes.App at 0x1f2f05ed610>,\n",
       " 'http://127.0.0.1:7860/',\n",
       " 'https://33368.gradio.app')"
      ]
     },
     "execution_count": 11,
     "metadata": {},
     "output_type": "execute_result"
    }
   ],
   "source": [
    "demo.launch(share=True)"
   ]
  },
  {
   "cell_type": "code",
   "execution_count": null,
   "id": "dbe332b5",
   "metadata": {},
   "outputs": [],
   "source": []
  }
 ],
 "metadata": {
  "kernelspec": {
   "display_name": "Python 3",
   "language": "python",
   "name": "python3"
  },
  "language_info": {
   "codemirror_mode": {
    "name": "ipython",
    "version": 3
   },
   "file_extension": ".py",
   "mimetype": "text/x-python",
   "name": "python",
   "nbconvert_exporter": "python",
   "pygments_lexer": "ipython3",
   "version": "3.8.10"
  }
 },
 "nbformat": 4,
 "nbformat_minor": 5
}
